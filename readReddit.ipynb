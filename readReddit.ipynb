{
 "cells": [
  {
   "cell_type": "markdown",
   "metadata": {},
   "source": [
    "Get the torrent from https://academictorrents.com/details/56aa49f9653ba545f48df2e33679f014d2829c10 and download whichever subreddit"
   ]
  },
  {
   "cell_type": "code",
   "execution_count": 1,
   "metadata": {},
   "outputs": [],
   "source": [
    "from comcrawl import IndexClient\n",
    "\n",
    "client = IndexClient([\"2019-51\", \"2019-49\"])\n",
    "\n",
    "crawled = \"reddit.com/r/MachineLearning/*\"\n",
    "\n",
    "client.search(crawled)"
   ]
  },
  {
   "cell_type": "code",
   "execution_count": 2,
   "metadata": {},
   "outputs": [
    {
     "name": "stdout",
     "output_type": "stream",
     "text": [
      "{'urlkey': 'com,reddit)/r/machinelearning/comments/5ogbd5/d_training_lstms_in_practice_tips_and_tricks', 'timestamp': '20191214023347', 'url': 'https://www.reddit.com/r/MachineLearning/comments/5ogbd5/d_training_lstms_in_practice_tips_and_tricks/', 'mime': 'text/html', 'mime-detected': 'text/html', 'status': '200', 'digest': 'F65HJ3QEDRKNUZKB42FACO4GEASJES6M', 'length': '26874', 'offset': '839457350', 'filename': 'crawl-data/CC-MAIN-2019-51/segments/1575540579703.26/warc/CC-MAIN-20191214014220-20191214042220-00516.warc.gz', 'languages': 'eng', 'encoding': 'UTF-8'}\n"
     ]
    }
   ],
   "source": [
    "results = [res for res in client.results if res['status'] == '200'][:8]\n",
    "response = results[0]\n",
    "print(response)"
   ]
  },
  {
   "cell_type": "code",
   "execution_count": 5,
   "metadata": {},
   "outputs": [
    {
     "name": "stdout",
     "output_type": "stream",
     "text": [
      "Lux's patch notes in one image\n",
      "How would you guys feel about a Cheerleader Lux Skin? :D\n",
      "Stay positive!\n",
      "What Lux Skins do you guys have?\n",
      "Enjoy this fanart\n",
      "Sexy Lux\n",
      "I solod lux to level 30\n",
      "My favorite image of lux\n",
      "Dat Lux\n",
      "User Flairs are here! Give us suggestions for flairs that you want to see\n",
      "Your opinion on lux as a support?\n",
      "Escape to a Luxury Family Vacation in Kamala Beach Vill\n",
      "Indulge in a Luxury Couples Retreat in Canggu Vill\n",
      "LUX.\n",
      "The real lux\n",
      "Don't forget you're here forever\n",
      "Introducing: New Lux Wards! (x-post)\n",
      "Discuss how awful lux is here.\n",
      "If you could change one thing on Lux\n",
      "drop it\n",
      "Need Luxi\n",
      "Sneaky Lux\n",
      "Lux by beanbean1988\n",
      "Lux VU (new skin?)\n",
      "Get free Axe Deodorant products.\n",
      "What rune page do you use for playing Lux?\n",
      "Merry Christmas!\n",
      "Merry Christmas!\n",
      "Does anyone own the Lux club tag in here?\n",
      "Luxury Lodge Accommodation Matakana\n",
      "Discord Server\n",
      "Can somebody explan this to me?\n",
      "When Jinx is more charming and more inteligent than Lux #Ritopls\n",
      "Start your home buying process on the right foot with home\n",
      "Does anyone know the artist for the Spellthief Lux splash?\n",
      "Custom Lux Login Screen\"\n",
      "Secret Stash or Assassin\n",
      "This toxic Lux \\\"main\\\" is a champ select troll\n",
      "2017 Lux/Morgana Guide\n",
      "I hate Lux\n",
      "The very best Lux's fan art you've ever seen\n",
      "Lux Tattoo Help\n",
      "Im one of you now.\n",
      "THE N VERSION (Dedicated for Tsubasa) OF ELP (Epic Lux Pack) IS HERE. 1000 images!\n",
      "Lux and MR\n",
      "That awkward moment when a light based mage isn't granted vision by all her skills.\n",
      "Lux Streamers?\n",
      "Anyone want to buy the name \\\"AP Lux\\\"?\n",
      "Can they make it so E oneshots ranged minions at lvl 5?\n",
      "Champion recommendations\n",
      "What happens if i already have Elementalist Lux and i want to \\\"upgrade\\\" her?\n",
      "Lux build on 3v3\n",
      "Secondary Summoners?\n",
      "TYPE BEATS? WHAT ARE TYPE BEATS OR INSTRUMENTALS?\n",
      "i dont even play lux but ..\n",
      "Am I Ulting Correctly?\n",
      "Elementalist Lux's profile animation in new client\n",
      "https://www.youtube.com/watch?v=C2BCyNIzEPI\n",
      "Anyone Tried CDR Runes with a Full Damage Build?\n",
      "Cheer Up Cheer Up (feat. Elementalist Lux)\n",
      "Cheer Up Baby (ft. Elementalist Lux)\n",
      "Ardent Censor\n",
      "Lux now says a line after hitting q from fog of war\n",
      "Why were Lux's old lines removed??\n",
      "New Lux Lore\n",
      "New Lux Lore\n",
      "Who said Lux support is hard?!\n"
     ]
    }
   ],
   "source": [
    "import pandas\n",
    "\n",
    "df = pandas.read_csv('lux_submissions.zst', on_bad_lines='skip')\n",
    "\n",
    "def getBody(ob):\n",
    "    for i in ob:\n",
    "        if isinstance(i, str) and i.startswith(\"body:\"):\n",
    "            return i[6:-1]\n",
    "        elif isinstance(i, str) and i.startswith('{\"body\":'):\n",
    "            return i[9:-1]\n",
    "\n",
    "def getTitle(ob):\n",
    "    for i in ob:\n",
    "        if isinstance(i, str) and i.startswith(\"title:\"):\n",
    "            return i[7:-1]\n",
    "        elif isinstance(i, str) and i.startswith('{\"title\":'):\n",
    "            return i[10:-1]\n",
    "\n",
    "def getSelf(ob):\n",
    "    for i in ob:\n",
    "        if isinstance(i, str) and i.startswith(\"selftext:\"):\n",
    "            return i[10:-1]\n",
    "        elif isinstance(i, str) and i.startswith('{\"selftext\":'):\n",
    "            return i[13:-1]\n",
    "\n",
    "for i in range(len(df)):\n",
    "    data = df.iloc[i]\n",
    "    print(getTitle(data))"
   ]
  },
  {
   "cell_type": "code",
   "execution_count": null,
   "metadata": {},
   "outputs": [],
   "source": []
  }
 ],
 "metadata": {
  "kernelspec": {
   "display_name": ".venv",
   "language": "python",
   "name": "python3"
  },
  "language_info": {
   "codemirror_mode": {
    "name": "ipython",
    "version": 3
   },
   "file_extension": ".py",
   "mimetype": "text/x-python",
   "name": "python",
   "nbconvert_exporter": "python",
   "pygments_lexer": "ipython3",
   "version": "3.12.8"
  }
 },
 "nbformat": 4,
 "nbformat_minor": 2
}
